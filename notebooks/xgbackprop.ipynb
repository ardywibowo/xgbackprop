{
 "cells": [
  {
   "cell_type": "code",
   "execution_count": 1,
   "id": "35f044c9",
   "metadata": {},
   "outputs": [
    {
     "name": "stderr",
     "output_type": "stream",
     "text": [
      "/Users/randyardywibowo/miniconda3/envs/core/lib/python3.9/site-packages/tqdm/auto.py:22: TqdmWarning: IProgress not found. Please update jupyter and ipywidgets. See https://ipywidgets.readthedocs.io/en/stable/user_install.html\n",
      "  from .autonotebook import tqdm as notebook_tqdm\n"
     ]
    },
    {
     "data": {
      "text/plain": [
       "False"
      ]
     },
     "execution_count": 1,
     "metadata": {},
     "output_type": "execute_result"
    }
   ],
   "source": [
    "import json\n",
    "import os\n",
    "import sys\n",
    "\n",
    "import numpy as np\n",
    "import torch\n",
    "import ubjson\n",
    "from matplotlib import pyplot as plt\n",
    "\n",
    "sys.path.insert(0, os.path.abspath('..'))\n",
    "from xgbackprop.xgbackprop import XGBackpropLayer\n",
    "\n",
    "torch.cuda.is_available()"
   ]
  },
  {
   "cell_type": "code",
   "execution_count": 2,
   "id": "f8598754",
   "metadata": {},
   "outputs": [],
   "source": [
    "# load model from file\n",
    "model_name = '/Users/randyardywibowo/Github/xgbackprop/models/model.json'\n",
    "with open(model_name, \"r\") as fd:\n",
    "    model = json.load(fd)\n",
    "\n",
    "device = 'cuda'\n",
    "model = XGBackpropLayer(model)"
   ]
  },
  {
   "cell_type": "code",
   "execution_count": 3,
   "id": "6a888dc1",
   "metadata": {},
   "outputs": [],
   "source": [
    "from numpy import loadtxt\n",
    "\n",
    "# load data\n",
    "dataset = loadtxt('../data/pima-indians-diabetes.csv', delimiter=\",\")\n",
    "\n",
    "# split data into X and y\n",
    "X = dataset[:, 0:8]\n",
    "Y = dataset[:, 8]"
   ]
  },
  {
   "cell_type": "code",
   "execution_count": 4,
   "id": "f1f4cf09",
   "metadata": {},
   "outputs": [
    {
     "data": {
      "text/plain": [
       "tensor([0.9688, 0.2024, 0.2590, 0.0979, 0.9464, 0.2495, 0.3593, 0.6376, 0.8618,\n",
       "        0.0476], grad_fn=<AddBackward0>)"
      ]
     },
     "execution_count": 4,
     "metadata": {},
     "output_type": "execute_result"
    }
   ],
   "source": [
    "x_tensor = torch.Tensor(X[:10, :])\n",
    "# x_tensor = x_tensor[None, :]\n",
    "\n",
    "model.train()\n",
    "model(x_tensor)"
   ]
  },
  {
   "cell_type": "code",
   "execution_count": 5,
   "id": "282df3a8",
   "metadata": {},
   "outputs": [
    {
     "data": {
      "text/plain": [
       "tensor([ 9.9948e-01,  3.5827e-03,  1.7496e-01, -1.1397e-02,  1.0003e+00,\n",
       "        -2.6250e-04,  9.9498e-01,  4.6560e-04,  9.9978e-01,  1.0009e-02],\n",
       "       grad_fn=<AddBackward0>)"
      ]
     },
     "execution_count": 5,
     "metadata": {},
     "output_type": "execute_result"
    }
   ],
   "source": [
    "model.eval()\n",
    "model(x_tensor)"
   ]
  },
  {
   "cell_type": "code",
   "execution_count": 8,
   "id": "53f49b59",
   "metadata": {},
   "outputs": [],
   "source": [
    "import xgboost as xgb\n",
    "\n",
    "model = xgb.Booster()\n",
    "model.load_model(model_name)\n",
    "# model.get_dump(dump_format='json')\n",
    "x_matrix = xgb.DMatrix(X)\n",
    "preds = model.predict(x_matrix)\n",
    "pred_leaf = model.predict(x_matrix, pred_leaf=True)\n",
    "preds\n"
   ]
  },
  {
   "cell_type": "code",
   "execution_count": 33,
   "id": "421c60f1",
   "metadata": {},
   "outputs": [],
   "source": [
    "with open('/Users/randyardywibowo/Github/xgbackprop/models/model.json', \"r\") as fd:\n",
    "    json_model = json.load(fd)\n",
    "\n",
    "j_trees = json_model[\"learner\"][\"gradient_booster\"][\"model\"][\"trees\"]"
   ]
  },
  {
   "cell_type": "code",
   "execution_count": 53,
   "id": "df8cac31",
   "metadata": {},
   "outputs": [],
   "source": [
    "# list(pred_leaf.astype(int).flatten())"
   ]
  },
  {
   "cell_type": "code",
   "execution_count": 55,
   "id": "8a0a6592",
   "metadata": {},
   "outputs": [
    {
     "data": {
      "text/plain": [
       "0.000229760666976"
      ]
     },
     "execution_count": 55,
     "metadata": {},
     "output_type": "execute_result"
    }
   ],
   "source": [
    "np.array([j_trees[i][\"loss_changes\"][leaf] for i, leaf in enumerate(list(pred_leaf.astype(int).flatten()))]).sum()"
   ]
  },
  {
   "cell_type": "code",
   "execution_count": 9,
   "id": "c1806f37",
   "metadata": {},
   "outputs": [],
   "source": [
    "model.train()\n",
    "# model = torch.jit.script(model)\n",
    "# model = torch.compile(model)\n",
    "input = torch.nn.Embedding(1, 8)\n",
    "optimizer = torch.optim.Adam(list(model.parameters()) + list(input.parameters()))"
   ]
  },
  {
   "cell_type": "code",
   "execution_count": 10,
   "id": "0ead4c5a",
   "metadata": {},
   "outputs": [],
   "source": [
    "outputs = []"
   ]
  },
  {
   "cell_type": "code",
   "execution_count": null,
   "id": "22f6bc48",
   "metadata": {},
   "outputs": [],
   "source": []
  },
  {
   "cell_type": "code",
   "execution_count": 11,
   "id": "064b35c8",
   "metadata": {},
   "outputs": [
    {
     "ename": "RuntimeError",
     "evalue": "all elements of input should be between 0 and 1",
     "output_type": "error",
     "traceback": [
      "\u001b[0;31m---------------------------------------------------------------------------\u001b[0m",
      "\u001b[0;31mRuntimeError\u001b[0m                              Traceback (most recent call last)",
      "Cell \u001b[0;32mIn[11], line 4\u001b[0m\n\u001b[1;32m      2\u001b[0m encoder_output \u001b[39m=\u001b[39m \u001b[39minput\u001b[39m(torch\u001b[39m.\u001b[39mtensor([\u001b[39m0\u001b[39m]))\n\u001b[1;32m      3\u001b[0m output \u001b[39m=\u001b[39m model(encoder_output)\n\u001b[0;32m----> 4\u001b[0m loss \u001b[39m=\u001b[39m torch\u001b[39m.\u001b[39;49mnn\u001b[39m.\u001b[39;49mBCELoss()(output, torch\u001b[39m.\u001b[39;49mtensor([\u001b[39m1.\u001b[39;49m]))\n\u001b[1;32m      5\u001b[0m outputs\u001b[39m.\u001b[39mappend(output\u001b[39m.\u001b[39mdetach()\u001b[39m.\u001b[39mnumpy())\n\u001b[1;32m      7\u001b[0m \u001b[39m# if (i // 100) % 2 != 0:\u001b[39;00m\n\u001b[1;32m      8\u001b[0m \u001b[39m#     print(\"Target: -10\")\u001b[39;00m\n\u001b[1;32m      9\u001b[0m     \n\u001b[0;32m   (...)\u001b[0m\n\u001b[1;32m     12\u001b[0m \u001b[39m#     loss = torch.square(output - 1)\u001b[39;00m\n\u001b[1;32m     13\u001b[0m \u001b[39m#     outputs.append(output.detach().numpy())\u001b[39;00m\n",
      "File \u001b[0;32m~/miniconda3/envs/core/lib/python3.9/site-packages/torch/nn/modules/module.py:1130\u001b[0m, in \u001b[0;36mModule._call_impl\u001b[0;34m(self, *input, **kwargs)\u001b[0m\n\u001b[1;32m   1126\u001b[0m \u001b[39m# If we don't have any hooks, we want to skip the rest of the logic in\u001b[39;00m\n\u001b[1;32m   1127\u001b[0m \u001b[39m# this function, and just call forward.\u001b[39;00m\n\u001b[1;32m   1128\u001b[0m \u001b[39mif\u001b[39;00m \u001b[39mnot\u001b[39;00m (\u001b[39mself\u001b[39m\u001b[39m.\u001b[39m_backward_hooks \u001b[39mor\u001b[39;00m \u001b[39mself\u001b[39m\u001b[39m.\u001b[39m_forward_hooks \u001b[39mor\u001b[39;00m \u001b[39mself\u001b[39m\u001b[39m.\u001b[39m_forward_pre_hooks \u001b[39mor\u001b[39;00m _global_backward_hooks\n\u001b[1;32m   1129\u001b[0m         \u001b[39mor\u001b[39;00m _global_forward_hooks \u001b[39mor\u001b[39;00m _global_forward_pre_hooks):\n\u001b[0;32m-> 1130\u001b[0m     \u001b[39mreturn\u001b[39;00m forward_call(\u001b[39m*\u001b[39;49m\u001b[39minput\u001b[39;49m, \u001b[39m*\u001b[39;49m\u001b[39m*\u001b[39;49mkwargs)\n\u001b[1;32m   1131\u001b[0m \u001b[39m# Do not call functions when jit is used\u001b[39;00m\n\u001b[1;32m   1132\u001b[0m full_backward_hooks, non_full_backward_hooks \u001b[39m=\u001b[39m [], []\n",
      "File \u001b[0;32m~/miniconda3/envs/core/lib/python3.9/site-packages/torch/nn/modules/loss.py:613\u001b[0m, in \u001b[0;36mBCELoss.forward\u001b[0;34m(self, input, target)\u001b[0m\n\u001b[1;32m    612\u001b[0m \u001b[39mdef\u001b[39;00m \u001b[39mforward\u001b[39m(\u001b[39mself\u001b[39m, \u001b[39minput\u001b[39m: Tensor, target: Tensor) \u001b[39m-\u001b[39m\u001b[39m>\u001b[39m Tensor:\n\u001b[0;32m--> 613\u001b[0m     \u001b[39mreturn\u001b[39;00m F\u001b[39m.\u001b[39;49mbinary_cross_entropy(\u001b[39minput\u001b[39;49m, target, weight\u001b[39m=\u001b[39;49m\u001b[39mself\u001b[39;49m\u001b[39m.\u001b[39;49mweight, reduction\u001b[39m=\u001b[39;49m\u001b[39mself\u001b[39;49m\u001b[39m.\u001b[39;49mreduction)\n",
      "File \u001b[0;32m~/miniconda3/envs/core/lib/python3.9/site-packages/torch/nn/functional.py:3083\u001b[0m, in \u001b[0;36mbinary_cross_entropy\u001b[0;34m(input, target, weight, size_average, reduce, reduction)\u001b[0m\n\u001b[1;32m   3080\u001b[0m     new_size \u001b[39m=\u001b[39m _infer_size(target\u001b[39m.\u001b[39msize(), weight\u001b[39m.\u001b[39msize())\n\u001b[1;32m   3081\u001b[0m     weight \u001b[39m=\u001b[39m weight\u001b[39m.\u001b[39mexpand(new_size)\n\u001b[0;32m-> 3083\u001b[0m \u001b[39mreturn\u001b[39;00m torch\u001b[39m.\u001b[39;49m_C\u001b[39m.\u001b[39;49m_nn\u001b[39m.\u001b[39;49mbinary_cross_entropy(\u001b[39minput\u001b[39;49m, target, weight, reduction_enum)\n",
      "\u001b[0;31mRuntimeError\u001b[0m: all elements of input should be between 0 and 1"
     ]
    }
   ],
   "source": [
    "for i in range(50):\n",
    "    encoder_output = input(torch.tensor([0]))\n",
    "    output = model(encoder_output)\n",
    "    loss = torch.nn.BCELoss()(output, torch.tensor([1.]))\n",
    "    outputs.append(output.detach().numpy())\n",
    "    \n",
    "    # if (i // 100) % 2 != 0:\n",
    "    #     print(\"Target: -10\")\n",
    "        \n",
    "    # else:\n",
    "    #     print(\"Target: +10\")\n",
    "    #     loss = torch.square(output - 1)\n",
    "    #     outputs.append(output.detach().numpy())\n",
    "\n",
    "    loss.backward()\n",
    "    optimizer.step()\n",
    "    optimizer.zero_grad()"
   ]
  },
  {
   "cell_type": "code",
   "execution_count": 12,
   "id": "2052e58b",
   "metadata": {},
   "outputs": [
    {
     "data": {
      "text/plain": [
       "[<matplotlib.lines.Line2D at 0x2e1866f70>]"
      ]
     },
     "execution_count": 12,
     "metadata": {},
     "output_type": "execute_result"
    },
    {
     "data": {
      "image/png": "[encoded data removed]",
      "text/plain": [
       "<Figure size 640x480 with 1 Axes>"
      ]
     },
     "metadata": {},
     "output_type": "display_data"
    }
   ],
   "source": [
    "plt.plot(outputs)"
   ]
  },
  {
   "cell_type": "code",
   "execution_count": 13,
   "id": "6890dcc9",
   "metadata": {},
   "outputs": [
    {
     "data": {
      "text/plain": [
       "3"
      ]
     },
     "execution_count": 13,
     "metadata": {},
     "output_type": "execute_result"
    }
   ],
   "source": [
    "len(outputs)"
   ]
  },
  {
   "cell_type": "code",
   "execution_count": null,
   "id": "b841c179",
   "metadata": {},
   "outputs": [],
   "source": []
  }
 ],
 "metadata": {
  "kernelspec": {
   "display_name": "core",
   "language": "python",
   "name": "python3"
  },
  "language_info": {
   "codemirror_mode": {
    "name": "ipython",
    "version": 3
   },
   "file_extension": ".py",
   "mimetype": "text/x-python",
   "name": "python",
   "nbconvert_exporter": "python",
   "pygments_lexer": "ipython3",
   "version": "3.9.16"
  },
  "vscode": {
   "interpreter": {
    "hash": "52c309327b5510cec2160f81c28f562c90225518b845f1ea8591e9d4790ec245"
   }
  }
 },
 "nbformat": 4,
 "nbformat_minor": 5
}
