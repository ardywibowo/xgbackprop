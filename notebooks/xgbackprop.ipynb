{
 "cells": [
  {
   "cell_type": "code",
   "execution_count": 1,
   "id": "35f044c9",
   "metadata": {},
   "outputs": [
    {
     "name": "stderr",
     "output_type": "stream",
     "text": [
      "/Users/randyardywibowo/miniconda3/envs/core/lib/python3.9/site-packages/tqdm/auto.py:22: TqdmWarning: IProgress not found. Please update jupyter and ipywidgets. See https://ipywidgets.readthedocs.io/en/stable/user_install.html\n",
      "  from .autonotebook import tqdm as notebook_tqdm\n"
     ]
    },
    {
     "data": {
      "text/plain": [
       "False"
      ]
     },
     "execution_count": 1,
     "metadata": {},
     "output_type": "execute_result"
    }
   ],
   "source": [
    "import json\n",
    "import os\n",
    "import sys\n",
    "\n",
    "import numpy as np\n",
    "import torch\n",
    "import ubjson\n",
    "from matplotlib import pyplot as plt\n",
    "\n",
    "sys.path.insert(0, os.path.abspath('..'))\n",
    "from xgbackprop.xgbackprop import FlatXGBackpropLayer\n",
    "\n",
    "torch.cuda.is_available()"
   ]
  },
  {
   "cell_type": "code",
   "execution_count": 2,
   "id": "f8598754",
   "metadata": {},
   "outputs": [],
   "source": [
    "# load model from file\n",
    "model_name = '/Users/randyardywibowo/Github/xgbackprop/models/model.json'\n",
    "with open(model_name, \"r\") as fd:\n",
    "    model = json.load(fd)\n",
    "\n",
    "device = 'cuda'\n",
    "model = FlatXGBackpropLayer(model)"
   ]
  },
  {
   "cell_type": "code",
   "execution_count": 3,
   "id": "6a888dc1",
   "metadata": {},
   "outputs": [],
   "source": [
    "from numpy import loadtxt\n",
    "\n",
    "# load data\n",
    "dataset = loadtxt('../data/pima-indians-diabetes.csv', delimiter=\",\")\n",
    "\n",
    "# split data into X and y\n",
    "X = dataset[:, 0:8]\n",
    "Y = dataset[:, 8]"
   ]
  },
  {
   "cell_type": "code",
   "execution_count": 5,
   "id": "f1f4cf09",
   "metadata": {},
   "outputs": [
    {
     "data": {
      "text/plain": [
       "tensor([1639.1926, 1720.6111, 1143.3629, 2095.1338, 3375.3989,  465.5726,\n",
       "        1079.0725,  493.2894, 2308.6367,  696.5468])"
      ]
     },
     "execution_count": 5,
     "metadata": {},
     "output_type": "execute_result"
    }
   ],
   "source": [
    "x_tensor = torch.Tensor(X[:10, :])\n",
    "# x_tensor = x_tensor[None, :]\n",
    "\n",
    "model.train()\n",
    "model(x_tensor)"
   ]
  },
  {
   "cell_type": "code",
   "execution_count": 6,
   "id": "282df3a8",
   "metadata": {},
   "outputs": [
    {
     "data": {
      "text/plain": [
       "tensor([ 9.9948e-01,  3.5827e-03,  1.7496e-01, -1.1397e-02,  1.5341e+03,\n",
       "        -2.6250e-04,  9.9498e-01,  4.6560e-04,  9.9978e-01,  1.0009e-02])"
      ]
     },
     "execution_count": 6,
     "metadata": {},
     "output_type": "execute_result"
    }
   ],
   "source": [
    "model.eval()\n",
    "model(x_tensor)"
   ]
  },
  {
   "cell_type": "code",
   "execution_count": 7,
   "id": "53f49b59",
   "metadata": {},
   "outputs": [
    {
     "data": {
      "text/plain": [
       "array([ 9.99478579e-01,  3.58263683e-03,  1.92080036e-01, -1.13972947e-02,\n",
       "        1.00033498e+00, -2.62531510e-04,  9.94977534e-01,  4.65604360e-04,\n",
       "        9.99782026e-01,  1.08163487e-02, -4.17266769e-04,  1.00002718e+00,\n",
       "       -9.22115069e-05,  8.50570917e-01,  9.99904037e-01,  9.97862875e-01,\n",
       "        1.00017178e+00,  5.47448516e-01, -1.28104381e-04,  9.97921050e-01,\n",
       "        2.33660438e-04,  5.45085233e-04,  9.62345064e-01,  9.99834955e-01,\n",
       "        5.07359385e-01,  2.43873417e-01,  9.97956812e-01, -4.39918404e-05,\n",
       "        2.53257662e-04,  2.42125685e-03,  2.93858722e-03,  1.00016093e+00,\n",
       "       -1.32402551e-04, -2.81628803e-04,  8.19959521e-01,  4.25250444e-04,\n",
       "        1.60869572e-03,  9.98246133e-01,  9.95543957e-01,  1.00016081e+00,\n",
       "        1.35858741e-03,  7.73274631e-04, -8.04867959e-05,  9.99829412e-01,\n",
       "        7.17188464e-04,  9.99697983e-01,  7.99839497e-01, -4.49713145e-04,\n",
       "        7.71562994e-01,  1.17299135e-03,  1.09131476e-02,  3.44842486e-02,\n",
       "        4.99318587e-03,  9.27966297e-01,  1.02045953e+00,  6.71518641e-03,\n",
       "        1.00005078e+00,  2.41561964e-01,  8.61541450e-01, -1.41262848e-04,\n",
       "       -5.68627729e-04,  1.57367930e-01, -2.18056215e-04, -3.57184820e-02,\n",
       "        5.08580029e-01,  5.05879700e-01,  8.08732927e-01,  5.47766569e-04,\n",
       "       -1.84530349e-04,  7.88970036e-04,  7.72096142e-02,  4.19753371e-03,\n",
       "        9.99210238e-01,  4.23195423e-04, -1.69195626e-02,  5.31218597e-04,\n",
       "       -6.00912899e-04,  1.70615281e-03,  1.00050867e+00, -9.33078118e-04,\n",
       "        5.10076468e-04, -4.76343499e-04,  9.60784615e-04, -4.01641242e-04,\n",
       "        1.00004828e+00,  9.96366260e-04, -9.56942749e-05,  4.22920450e-04,\n",
       "        9.99403417e-01,  1.05482002e-03, -3.91368463e-04,  1.12792070e-03,\n",
       "        1.21796191e-04,  9.98250484e-01,  1.36104375e-02,  5.03232768e-05,\n",
       "        2.32685430e-04,  2.77187419e-03,  1.28050763e-02,  4.06922549e-01,\n",
       "        9.99891102e-01,  4.09060955e-01,  8.16619548e-04, -8.92226468e-04,\n",
       "        9.73114860e-04, -5.56239102e-04,  2.79447209e-04,  9.06231755e-04,\n",
       "        1.06894486e-02,  1.45257022e-02,  9.15686190e-01,  9.99162614e-01,\n",
       "        7.29042658e-05,  4.87428013e-04,  1.00000441e+00,  9.57123101e-01,\n",
       "        9.97127235e-01, -3.15997808e-04, -7.66255194e-04, -3.34032607e-04,\n",
       "        7.85454452e-01,  3.14516551e-03,  1.44040072e-03,  4.99791291e-04,\n",
       "        9.93452072e-01,  1.54127195e-01,  1.24030386e-03,  1.74593478e-01,\n",
       "        5.61292291e-01,  9.99449492e-01,  1.00019217e+00,  9.99763429e-01,\n",
       "        1.06082606e+00,  2.50298483e-03,  2.14728750e-02,  4.73223452e-04,\n",
       "       -4.03669575e-04,  1.39689902e-04,  7.45981753e-01,  3.31493211e-04,\n",
       "        3.75291593e-02,  3.57799917e-01,  1.86433658e-01,  9.99229133e-01,\n",
       "        4.18089359e-04, -5.70998272e-05,  4.02278036e-01,  6.66431210e-04,\n",
       "        5.12135804e-01, -4.07376327e-03,  2.64829578e-04, -1.74079483e-04,\n",
       "        1.00043356e+00,  3.04588109e-01,  1.00027680e+00,  7.84304440e-01,\n",
       "       -1.24832732e-03,  1.15213108e-04,  3.75506315e-05,  1.02832377e+00,\n",
       "        2.86530296e-04, -1.69037157e-04,  2.30556412e-04,  1.87782949e-04,\n",
       "        9.99603033e-01,  9.98150587e-01,  1.10947480e-03,  5.33488113e-03,\n",
       "        8.06889892e-01,  2.35999250e-04,  9.96908724e-01,  9.99517143e-01,\n",
       "       -2.24122006e-04,  1.30220506e-04,  1.56290759e-03,  1.00024307e+00,\n",
       "        2.05345728e-04,  9.99558926e-01,  2.24973238e-03,  6.94086671e-01,\n",
       "        6.96851581e-04,  4.33148991e-04, -1.58996510e-04,  6.07851078e-04,\n",
       "        1.07368769e-03,  9.99709725e-01,  8.27353776e-01,  1.00009263e+00,\n",
       "        4.14910287e-01,  9.93910193e-01,  4.92799918e-05,  3.60732675e-01,\n",
       "        4.02597010e-01,  6.03830695e-01, -1.31146619e-04,  9.97457266e-01,\n",
       "       -8.63255584e-04,  9.93997872e-01,  9.98910367e-01,  9.97809231e-01,\n",
       "        3.24384286e-03,  2.97782244e-03,  7.00766623e-01, -4.77263129e-05,\n",
       "        8.64434123e-01,  1.88885145e-02,  1.00015986e+00,  9.99819875e-01,\n",
       "        1.21628563e-03,  1.00373733e+00, -2.19932728e-04,  7.96239765e-04,\n",
       "        7.32549641e-04,  9.94792461e-01,  9.99074340e-01,  1.00030792e+00,\n",
       "        9.99029338e-01,  2.13507950e-01,  9.96310413e-01,  9.97927248e-01,\n",
       "        9.93060470e-01,  9.42210674e-01,  3.15672979e-02,  5.26900113e-01,\n",
       "        7.55367146e-05, -5.14687308e-05,  2.58056913e-03,  9.99541104e-01,\n",
       "        9.83633876e-01, -1.79993676e-03,  9.99468267e-01,  9.99697089e-01,\n",
       "        5.67663573e-02,  1.63598219e-03,  5.16302593e-04,  9.99922395e-01,\n",
       "        1.00556076e+00,  9.99866068e-01,  1.00018024e+00,  1.91417225e-02,\n",
       "       -4.84598248e-04, -8.88324503e-05, -3.92694511e-02,  9.99816537e-01,\n",
       "        2.06787020e-01,  1.00003302e+00,  1.79712987e-03,  5.30655612e-04,\n",
       "        7.87384692e-04, -2.29732505e-05,  3.29397386e-03,  6.37240857e-02,\n",
       "        2.64709117e-03, -3.21431784e-04,  9.99428749e-01,  9.96820748e-01,\n",
       "        7.92937398e-01, -6.62211387e-04,  2.88290466e-04,  9.41981912e-01,\n",
       "        2.55986420e-03,  1.01333463e+00,  1.35726668e-03,  2.60364584e-04,\n",
       "        9.99773026e-01,  2.60034879e-03,  9.99661624e-01,  1.29340158e-03,\n",
       "        1.84857097e-04,  9.98790145e-01,  4.74611878e-01,  4.64889705e-02,\n",
       "       -1.70550831e-02,  1.33061096e-01,  6.89627719e-04,  2.27634984e-04,\n",
       "        9.95295525e-01,  1.50446454e-02,  2.06788443e-02,  4.90711886e-04,\n",
       "        1.42617241e-01,  1.45182118e-03,  5.77282568e-04,  1.00034070e+00,\n",
       "        9.99910533e-01,  3.63776624e-01,  8.57932144e-04,  9.98723507e-01,\n",
       "        6.80739467e-04,  3.48298013e-01, -8.17818101e-04,  9.97575223e-01,\n",
       "        9.99777675e-01,  9.97878194e-01,  8.85738209e-02,  2.33484129e-03,\n",
       "        9.46058214e-01, -5.49851575e-05,  9.99493420e-01,  8.90718959e-03,\n",
       "        9.08985078e-01,  9.99087632e-01,  4.47731145e-04,  9.99262094e-01,\n",
       "        1.03125174e-03,  1.90680213e-02,  9.10261512e-01,  1.38422400e-02,\n",
       "        4.39234823e-01,  9.98395085e-01,  3.24835622e-04,  1.07279932e-03,\n",
       "        9.98892486e-01,  1.25009532e-03,  9.99236465e-01,  5.18133456e-04,\n",
       "       -2.69445847e-03,  9.99624014e-01,  2.68559027e-02,  2.35465050e-01,\n",
       "        1.11388066e-03,  2.07149144e-02,  9.95065749e-01,  7.91238785e-01,\n",
       "        3.34857206e-04,  1.90816331e-03,  8.24373603e-01,  1.00200725e+00,\n",
       "       -6.15468156e-03,  8.04436160e-04,  8.49941571e-04,  1.56171111e-04,\n",
       "        9.99663353e-01,  6.88751414e-03, -8.19311384e-03,  1.53063657e-03,\n",
       "        3.88397098e-01,  1.00007045e+00,  9.98410523e-01,  9.99910235e-01,\n",
       "        9.93967871e-04,  7.08724780e-04,  1.43374215e-04,  6.79391553e-04,\n",
       "        2.07008600e-01,  1.45135264e-05,  1.02285913e-03,  3.68794601e-04,\n",
       "       -9.47363660e-05,  9.99001026e-01, -1.68135215e-04,  4.94323909e-01,\n",
       "        3.73013754e-04,  2.10291124e-03,  3.88698914e-04,  9.98776138e-01,\n",
       "        9.99346972e-01,  1.00029147e+00,  2.33429968e-01,  1.00883162e+00,\n",
       "        9.99666810e-01,  5.30394260e-04,  2.37703860e-01,  1.00004399e+00,\n",
       "        1.94453786e-03,  1.86479956e-05,  9.99060392e-01,  2.99512831e-05,\n",
       "        1.70598384e-02,  9.98978198e-01,  1.00027108e+00, -6.41090373e-05,\n",
       "        6.69383269e-04,  2.82440160e-04,  2.07142718e-03,  6.95766151e-01,\n",
       "        1.63856894e-02,  3.57589382e-03,  9.99625802e-01,  4.16903645e-02,\n",
       "        6.39591191e-04,  1.79600355e-03, -1.14479801e-04,  2.89884862e-04,\n",
       "       -9.39796228e-05,  5.90656091e-05,  9.99087155e-01,  9.68538746e-02,\n",
       "        1.01857090e+00,  2.63629854e-01,  6.52796745e-01,  1.00013375e+00,\n",
       "        3.34346533e-01,  1.96980509e-05,  9.78823185e-01,  1.73211601e-02,\n",
       "       -4.89226426e-04,  9.98639584e-01,  3.46341258e-05,  9.98321831e-01,\n",
       "        9.91544187e-01,  1.90622449e-01,  9.97975051e-01,  9.58345179e-03,\n",
       "        9.99508679e-01,  3.27946153e-04,  9.99955773e-01,  1.48012014e-02,\n",
       "        8.19189996e-02,  9.99816179e-01,  8.42394657e-04,  5.17666698e-01,\n",
       "        4.36749488e-01, -7.54529960e-04,  9.98904645e-01,  9.99381363e-01,\n",
       "       -3.30389885e-04,  9.98965502e-01, -2.69607001e-04,  3.57666127e-02,\n",
       "        1.50185265e-03, -4.40473552e-04,  5.62600009e-02,  1.03415048e-03,\n",
       "        9.16585207e-01,  9.75828528e-01,  4.32489585e-04,  9.98772442e-01,\n",
       "        4.09727450e-04,  9.99528706e-01, -7.49667757e-04, -1.60842352e-02,\n",
       "       -5.22521441e-04,  6.52587973e-04, -4.03349804e-05,  9.99979675e-01,\n",
       "        1.72203395e-03,  4.29860890e-01, -1.52332708e-04,  6.82442260e-05,\n",
       "        9.99633312e-01, -1.21409539e-02,  1.77054119e-03,  9.99560833e-01,\n",
       "        9.97517943e-01,  9.99893904e-01, -4.01424913e-04,  3.48694652e-04,\n",
       "        9.99311805e-01,  1.82737841e-03, -5.91276876e-05,  9.99325395e-01,\n",
       "       -5.28646808e-04,  1.01840040e-02, -8.93932825e-04,  9.38390851e-01,\n",
       "        5.14852931e-04, -3.78214871e-04,  9.99868929e-01,  1.66027588e-04,\n",
       "       -8.35139417e-06,  2.05851611e-04, -8.18839399e-05,  1.77769572e-01,\n",
       "        1.31827267e-02,  1.43231679e-04, -8.83302477e-04,  4.81968629e-04,\n",
       "        9.99855280e-01,  6.12340285e-04,  4.99093056e-01,  3.14196706e-01,\n",
       "        1.26825586e-01,  8.19682956e-01,  1.47909479e-04,  4.70931787e-04,\n",
       "        9.99761045e-01,  1.19119249e-02,  3.16870548e-02, -5.49880970e-05,\n",
       "        1.55729860e-01, -1.41898417e-04, -6.46363944e-04,  1.32394271e-04,\n",
       "        1.00026214e+00,  4.03884053e-01,  1.00993062e-03,  9.92781341e-01,\n",
       "        6.06722373e-04,  3.76549957e-04, -5.06822718e-04,  5.89691663e-05,\n",
       "        7.01232016e-01,  1.71522886e-01,  5.90510666e-04,  6.52934541e-04,\n",
       "        1.38465909e-03,  1.83617740e-04,  9.99717295e-01,  7.98192024e-01,\n",
       "        6.54170103e-03,  6.51239092e-03,  9.99750376e-01, -3.71401848e-06,\n",
       "        2.24086078e-04,  1.01886508e-04,  9.99821484e-01,  3.75484228e-01,\n",
       "        1.49205007e-04, -2.13282459e-04,  9.97838199e-01, -5.08274650e-04,\n",
       "        3.66843102e-04,  1.81049411e-03, -4.21897421e-04,  1.07963555e-01,\n",
       "        1.00054598e+00, -2.45738600e-04,  2.71793717e-04,  5.53757891e-05,\n",
       "        6.22759690e-04,  1.38229530e-04, -1.24282800e-04,  5.47562659e-01,\n",
       "        4.83629154e-03, -4.91368060e-04, -2.83950614e-03, -1.10808527e-02,\n",
       "        3.57559242e-04, -1.23642221e-05, -3.35047469e-02,  6.22189313e-04,\n",
       "        2.66878195e-02,  2.52963215e-01,  1.11887790e-03,  9.99147058e-01,\n",
       "        3.94503208e-04,  4.19224925e-05,  4.58616036e-04,  9.99521196e-01,\n",
       "        9.99062717e-01,  9.95051742e-01,  1.55241683e-01, -1.24763157e-02,\n",
       "        1.26981374e-03,  1.00050378e+00,  9.99157012e-01,  1.38870522e-01,\n",
       "        1.36301608e-03,  4.86858904e-01,  7.24629150e-04, -1.81524534e-04,\n",
       "        2.48968214e-01, -2.43355375e-04,  5.55000384e-04,  5.58388820e-05,\n",
       "        2.17882365e-01,  8.06231692e-04,  1.04429312e-01,  1.29335176e-03,\n",
       "        9.98871863e-01,  9.96534467e-01, -4.52480204e-02,  1.71729375e-03,\n",
       "        1.55110121e-01,  4.34664951e-04, -3.73927003e-04, -1.07807600e-05,\n",
       "        2.37386022e-03,  9.99186754e-01,  9.91946901e-04, -1.15581497e-04,\n",
       "        5.10309078e-02, -1.03541643e-04,  5.62892318e-01,  4.71323088e-04,\n",
       "        9.42675001e-07,  9.97382164e-01,  4.25986677e-01,  9.99938726e-01,\n",
       "        1.54201210e-01,  1.22156134e-02,  6.52913511e-01,  1.20620523e-03,\n",
       "        9.99454975e-01, -5.10097365e-04,  9.98752475e-01,  2.21856553e-02,\n",
       "        9.99348760e-01,  2.46919190e-05,  7.58964539e-01, -8.27636337e-04,\n",
       "        1.47196397e-01,  9.31296148e-04,  9.61624026e-01,  8.94903421e-01,\n",
       "       -1.95453904e-04,  3.60105187e-02,  1.01164663e+00, -3.48981033e-04,\n",
       "        1.04354671e-03,  2.10791919e-02,  5.17206132e-01,  9.99880910e-01,\n",
       "        9.99859869e-01,  1.06835819e-03,  9.99306500e-01,  2.52475525e-04,\n",
       "        3.95431101e-01, -6.44516142e-04,  2.12084400e-04,  8.70667756e-01,\n",
       "        9.66494262e-01,  2.90180743e-01,  9.99398351e-01, -7.25439531e-05,\n",
       "        4.78758842e-01,  4.14279784e-04,  1.01904285e+00,  9.99177098e-01,\n",
       "        2.59194337e-02,  5.53600751e-02,  5.47634496e-04,  1.89200360e-02,\n",
       "        4.10557346e-04,  2.03050644e-04,  9.29527567e-04,  3.94151430e-04,\n",
       "        1.59247476e-03,  2.13929359e-02,  8.14845681e-01,  1.87029305e-04,\n",
       "        4.14420292e-03,  3.01964174e-04,  2.82667781e-04,  9.99177575e-01,\n",
       "        1.08264852e-03, -7.17803091e-03,  1.87173560e-01,  6.69293106e-04,\n",
       "        1.09696299e-01,  1.33916867e-04,  9.99947846e-01,  1.45948189e-03,\n",
       "        5.71101606e-01,  8.95789824e-04,  9.99186873e-01,  1.00065625e+00,\n",
       "        9.99972582e-01,  1.07363064e-03, -2.99798092e-04,  3.98840784e-04,\n",
       "        8.27628821e-02, -4.23163816e-04, -1.19531469e-03,  9.99347866e-01,\n",
       "        1.66102231e-01,  1.01311719e+00,  4.85905584e-05,  9.99450803e-01,\n",
       "        4.02904272e-01,  1.00024199e+00,  9.99496877e-01,  9.99783158e-01,\n",
       "        9.98689711e-01,  8.60378132e-05,  9.98462498e-01,  5.84861517e-01,\n",
       "        8.69060343e-04,  8.58945489e-01,  2.26293644e-03,  5.11939754e-04,\n",
       "       -3.13059916e-03,  3.10546602e-04, -3.26958863e-04,  9.99270320e-01,\n",
       "        9.99612749e-01,  5.80367781e-02,  9.99192774e-01, -5.78158826e-04,\n",
       "       -3.99332261e-04,  9.99538481e-01, -1.75719077e-04,  2.95383960e-01,\n",
       "        1.05295714e-03,  4.62237978e-03,  4.74346598e-04,  3.97005910e-03,\n",
       "        1.52124194e-04,  3.67372781e-01,  4.45986894e-04,  1.00010478e+00,\n",
       "       -2.34290771e-02,  1.00003922e+00, -5.55290200e-04,  7.91974127e-01,\n",
       "        5.80412447e-01,  3.17236932e-04,  1.74667433e-01,  1.42209813e-01,\n",
       "       -9.09825042e-02,  9.76601005e-01,  1.00052333e+00,  1.19965593e-03,\n",
       "        1.00547140e-05, -1.43650410e-04,  2.55252589e-02,  1.72376778e-04,\n",
       "        9.99768555e-01,  3.58486585e-02,  2.45857693e-04,  3.38123739e-01,\n",
       "        9.99574006e-01,  2.29340702e-01,  3.88449252e-01,  8.31657469e-01,\n",
       "        1.00102043e+00, -2.10857779e-05,  4.34229150e-04,  9.95234311e-01,\n",
       "        1.03517473e-01,  4.66605357e-04,  9.99190092e-01,  5.58220956e-04,\n",
       "        7.68899620e-01,  3.00785317e-03,  1.29110049e-04,  2.62618391e-03,\n",
       "        2.00477327e-04,  3.40499193e-03,  9.94568467e-01,  9.98172522e-01,\n",
       "        9.99738932e-01, -2.11810716e-03,  6.84337392e-02,  9.44418833e-04,\n",
       "        2.17249340e-04,  9.65760963e-04, -8.91205622e-04,  9.98270392e-01,\n",
       "        9.47704852e-01,  4.15732095e-04, -8.67942814e-04,  5.53739429e-01,\n",
       "        8.33573878e-01,  7.25010468e-04,  7.82829344e-01,  2.43345974e-04,\n",
       "        9.99640703e-01,  2.92777538e-01,  9.99726474e-01,  1.11348061e-02,\n",
       "        3.96563613e-04,  9.99303818e-01,  1.00007093e+00,  9.27390575e-01,\n",
       "        7.00190425e-01,  4.75764751e-01, -5.47397533e-04,  1.43276781e-01,\n",
       "       -3.17040598e-04,  1.00035644e+00, -4.05559171e-04,  5.08484023e-04,\n",
       "       -1.49424025e-03,  3.70044872e-04,  9.17905331e-01, -6.53855212e-04],\n",
       "      dtype=float32)"
      ]
     },
     "execution_count": 7,
     "metadata": {},
     "output_type": "execute_result"
    }
   ],
   "source": [
    "import xgboost as xgb\n",
    "\n",
    "model = xgb.Booster()\n",
    "model.load_model(model_name)\n",
    "# model.get_dump(dump_format='json')\n",
    "x_matrix = xgb.DMatrix(X)\n",
    "preds = model.predict(x_matrix)\n",
    "pred_leaf = model.predict(x_matrix, pred_leaf=True)\n",
    "preds\n"
   ]
  },
  {
   "cell_type": "code",
   "execution_count": 33,
   "id": "421c60f1",
   "metadata": {},
   "outputs": [],
   "source": [
    "with open('/Users/randyardywibowo/Github/xgbackprop/models/model.json', \"r\") as fd:\n",
    "    json_model = json.load(fd)\n",
    "\n",
    "j_trees = json_model[\"learner\"][\"gradient_booster\"][\"model\"][\"trees\"]"
   ]
  },
  {
   "cell_type": "code",
   "execution_count": 53,
   "id": "df8cac31",
   "metadata": {},
   "outputs": [],
   "source": [
    "# list(pred_leaf.astype(int).flatten())"
   ]
  },
  {
   "cell_type": "code",
   "execution_count": 55,
   "id": "8a0a6592",
   "metadata": {},
   "outputs": [
    {
     "data": {
      "text/plain": [
       "0.000229760666976"
      ]
     },
     "execution_count": 55,
     "metadata": {},
     "output_type": "execute_result"
    }
   ],
   "source": [
    "np.array([j_trees[i][\"loss_changes\"][leaf] for i, leaf in enumerate(list(pred_leaf.astype(int).flatten()))]).sum()"
   ]
  },
  {
   "cell_type": "code",
   "execution_count": 5,
   "id": "c1806f37",
   "metadata": {},
   "outputs": [],
   "source": [
    "model.train()\n",
    "# model = torch.jit.script(model)\n",
    "# model = torch.compile(model)\n",
    "input = torch.nn.Embedding(1, 8)\n",
    "optimizer = torch.optim.Adam(list(model.parameters()) + list(input.parameters()))"
   ]
  },
  {
   "cell_type": "code",
   "execution_count": 6,
   "id": "0ead4c5a",
   "metadata": {},
   "outputs": [],
   "source": [
    "outputs = []"
   ]
  },
  {
   "cell_type": "code",
   "execution_count": 8,
   "id": "064b35c8",
   "metadata": {},
   "outputs": [
    {
     "name": "stdout",
     "output_type": "stream",
     "text": [
      "Target: +10\n",
      "Target: +10\n",
      "Target: +10\n",
      "Target: +10\n",
      "Target: +10\n",
      "Target: +10\n",
      "Target: +10\n",
      "Target: +10\n",
      "Target: +10\n",
      "Target: +10\n",
      "Target: +10\n",
      "Target: +10\n",
      "Target: +10\n",
      "Target: +10\n",
      "Target: +10\n",
      "Target: +10\n",
      "Target: +10\n",
      "Target: +10\n",
      "Target: +10\n",
      "Target: +10\n",
      "Target: +10\n",
      "Target: +10\n",
      "Target: +10\n",
      "Target: +10\n",
      "Target: +10\n",
      "Target: +10\n",
      "Target: +10\n",
      "Target: +10\n",
      "Target: +10\n",
      "Target: +10\n",
      "Target: +10\n",
      "Target: +10\n",
      "Target: +10\n",
      "Target: +10\n",
      "Target: +10\n",
      "Target: +10\n",
      "Target: +10\n",
      "Target: +10\n",
      "Target: +10\n",
      "Target: +10\n",
      "Target: +10\n",
      "Target: +10\n",
      "Target: +10\n",
      "Target: +10\n",
      "Target: +10\n",
      "Target: +10\n",
      "Target: +10\n",
      "Target: +10\n",
      "Target: +10\n",
      "Target: +10\n"
     ]
    }
   ],
   "source": [
    "for i in range(50):\n",
    "    encoder_output = input(torch.tensor([0]))\n",
    "    output = model(encoder_output)\n",
    "    loss = torch.nn.MSELoss()(output, torch.tensor([1.]))\n",
    "    outputs.append(output.detach().numpy())\n",
    "    \n",
    "    if (i // 100) % 2 != 0:\n",
    "        print(\"Target: -10\")\n",
    "    else:\n",
    "        print(\"Target: +10\")\n",
    "        loss = torch.square(output - 1)\n",
    "        outputs.append(output.detach().numpy())\n",
    "\n",
    "    loss.backward()\n",
    "    optimizer.step()\n",
    "    optimizer.zero_grad()"
   ]
  },
  {
   "cell_type": "code",
   "execution_count": 9,
   "id": "2052e58b",
   "metadata": {},
   "outputs": [
    {
     "data": {
      "text/plain": [
       "[<matplotlib.lines.Line2D at 0x14ab7f2e0>]"
      ]
     },
     "execution_count": 9,
     "metadata": {},
     "output_type": "execute_result"
    },
    {
     "data": {
      "image/png": "[encoded data removed]",
      "text/plain": [
       "<Figure size 640x480 with 1 Axes>"
      ]
     },
     "metadata": {},
     "output_type": "display_data"
    }
   ],
   "source": [
    "plt.plot(outputs)"
   ]
  },
  {
   "cell_type": "code",
   "execution_count": 13,
   "id": "6890dcc9",
   "metadata": {},
   "outputs": [
    {
     "data": {
      "text/plain": [
       "3"
      ]
     },
     "execution_count": 13,
     "metadata": {},
     "output_type": "execute_result"
    }
   ],
   "source": [
    "len(outputs)"
   ]
  },
  {
   "cell_type": "code",
   "execution_count": null,
   "id": "b841c179",
   "metadata": {},
   "outputs": [],
   "source": []
  }
 ],
 "metadata": {
  "kernelspec": {
   "display_name": "core",
   "language": "python",
   "name": "python3"
  },
  "language_info": {
   "codemirror_mode": {
    "name": "ipython",
    "version": 3
   },
   "file_extension": ".py",
   "mimetype": "text/x-python",
   "name": "python",
   "nbconvert_exporter": "python",
   "pygments_lexer": "ipython3",
   "version": "3.9.16"
  },
  "vscode": {
   "interpreter": {
    "hash": "52c309327b5510cec2160f81c28f562c90225518b845f1ea8591e9d4790ec245"
   }
  }
 },
 "nbformat": 4,
 "nbformat_minor": 5
}
